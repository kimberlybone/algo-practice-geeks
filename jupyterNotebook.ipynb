{
 "metadata": {
  "language_info": {
   "codemirror_mode": {
    "name": "ipython",
    "version": 3
   },
   "file_extension": ".py",
   "mimetype": "text/x-python",
   "name": "python",
   "nbconvert_exporter": "python",
   "pygments_lexer": "ipython3",
   "version": "3.8.3-final"
  },
  "orig_nbformat": 2,
  "kernelspec": {
   "name": "python3",
   "display_name": "Python 3.8.3 64-bit",
   "metadata": {
    "interpreter": {
     "hash": "082e9a3bcad0a290d0001e938aa60b99250c6c2ef33a923c00b70f9826caf4b7"
    }
   }
  }
 },
 "nbformat": 4,
 "nbformat_minor": 2,
 "cells": [
  {
   "cell_type": "code",
   "execution_count": 20,
   "metadata": {},
   "outputs": [
    {
     "output_type": "execute_result",
     "data": {
      "text/plain": [
       "9"
      ]
     },
     "metadata": {},
     "execution_count": 20
    }
   ],
   "source": [
    "def missingNum(arr, n):\n",
    "    sumTotal = n*(n+1)/2\n",
    "    total = 0\n",
    "    for i in range(len(arr)):\n",
    "        total += arr[i]\n",
    "\n",
    "    missingNum = int(sumTotal - total)\n",
    "    return missingNum\n",
    "missingNum([1,2,3,4,5,6,7,8,10], 10)"
   ]
  },
  {
   "cell_type": "code",
   "execution_count": 40,
   "metadata": {},
   "outputs": [
    {
     "output_type": "execute_result",
     "data": {
      "text/plain": [
       "'4'"
      ]
     },
     "metadata": {},
     "execution_count": 40
    }
   ],
   "source": [
    "def order(sentence):\n",
    "    splitStr = sentence.split(\" \")\n",
    "    # splitSentence.sort()\n",
    "    # return splitSentence\n",
    "    # i=0\n",
    "    n = len(splitStr)\n",
    "    for i in range(n-1):\n",
    "        for j in range(0, n-i-1):\n",
    "            # if element contains a num greater than the num that the next element contains, sort it\n",
    "            if splitStr[j] > splitStr[j+1]:\n",
    "                splitStr[j], splitStr[j+1] = splitStr[j+1], splitStr[j]\n",
    "    #     if char\n",
    "    #     ++i\n",
    "\n",
    "order(\"is2 Thi1s T4est 3a\")\n"
   ]
  },
  {
   "cell_type": "code",
   "execution_count": null,
   "metadata": {},
   "outputs": [],
   "source": []
  }
 ]
}